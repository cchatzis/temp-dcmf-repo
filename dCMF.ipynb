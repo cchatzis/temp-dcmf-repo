{
 "cells": [
  {
   "cell_type": "code",
   "execution_count": null,
   "metadata": {},
   "outputs": [],
   "source": [
    "# Imports\n",
    "\n",
    "import pickle\n",
    "import scipy.io as sio\n",
    "\n",
    "import my_factor_tools\n",
    "from my_factor_tools import *\n",
    "\n",
    "import matcouply\n",
    "from matcouply.penalties import NonNegativity,Parafac2\n",
    "from matcouply.decomposition import cmf_aoadmm\n",
    "\n",
    "import tqdm.notebook as tqdm"
   ]
  },
  {
   "cell_type": "code",
   "execution_count": null,
   "metadata": {},
   "outputs": [],
   "source": [
    "# Choose case to try:\n",
    "# \"1\": Smooth PARAFAC2 data\n",
    "# \"2\": Non-PARAFAC2 smooth data\n",
    "# \"3a\": Incorporating prior information - Orthogonal H\n",
    "# \"3b\": Incorporating prior information - Non-orthogonal H\n",
    "\n",
    "case = \"1\""
   ]
  },
  {
   "cell_type": "code",
   "execution_count": null,
   "metadata": {},
   "outputs": [],
   "source": [
    "# Noise strength eta, where: X_noisy = X + eta * ||X|| (noise/||noise||)\n",
    "noise_level = 0.75"
   ]
  },
  {
   "cell_type": "code",
   "execution_count": null,
   "metadata": {},
   "outputs": [],
   "source": [
    "# If seed is between 0 and 29 and noise level is in [0.25,0.75,1.25],\n",
    "# one of the datasets used in the experiments will be used.\n",
    "# Otherwise, a random dataset will be generated.\n",
    "\n",
    "seed = 1\n",
    "\n",
    "if seed <= 29 and noise_level in [0.25,0.75,1.25]:\n",
    "\n",
    "    # Read one of the datasets used in the experiments\n",
    "    \n",
    "    with open(f'exp{case}_input/dataset{seed}_noise{str(noise_level)}.pkl', 'rb') as f:\n",
    "        input = pickle.load(f)\n",
    "\n",
    "    noisy_tensor = input['tensor']\n",
    "    gnd_A = input['A']\n",
    "    gnd_B = input['B']\n",
    "    gnd_C = input['C']\n",
    "    if \"H\" in input.keys():\n",
    "        gnd_H = input['H']\n",
    "\n",
    "else:\n",
    "\n",
    "    # Generate a new one of the \"case\" case\n",
    "\n",
    "    if case == \"1\":\n",
    "        tensor, gnd_A , gnd_B, gnd_C = my_factor_tools.create_random_smooth_parafac2_tensor((40, 50, 30), 3, seed)\n",
    "    elif case == \"2\":\n",
    "        tensor, gnd_A , gnd_B, gnd_C = generate_non_parafac2_tensor((40, 50, 30), 3, seed)\n",
    "    elif case == \"3a\":\n",
    "        tensor, gnd_A , gnd_B, gnd_C, gnd_H = create_ortho_tensor_H((40, 50, 30), 3, seed)\n",
    "    elif case == \"3b\":\n",
    "        tensor, gnd_A , gnd_B, gnd_C, gnd_H = generate_non_ortho_dataset((40, 50, 30), 3, seed)\n",
    "    else:\n",
    "        print(\"Invalid case\")\n",
    "\n",
    "    # add noise to the formed tensor\n",
    "    noise_tensor = np.random.normal(0,1,tensor.shape)\n",
    "    noisy_tensor = tensor + noise_level * ((tl.norm(tensor))/(tl.norm(noise_tensor))) * noise_tensor"
   ]
  },
  {
   "cell_type": "code",
   "execution_count": null,
   "metadata": {},
   "outputs": [],
   "source": [
    "# Choose model to use from \"parafac2\",\"tparafac2\",\"dCMF_I\",\"dCMF_H\"\n",
    "# TODO: Change the regs and l2_penalty accoridng to the model used\n",
    "\n",
    "model = 'dCMF_I'\n",
    "l_B = 10\n",
    "\n",
    "if model == 'parafac2':\n",
    "    regs = [[NonNegativity()],[Parafac2()],[]]\n",
    "    l2_penalty = [None,None,None]\n",
    "elif model == 'tparafac2':\n",
    "    regs = [[NonNegativity()],[Parafac2(),my_factor_tools.myTemporalSmoothnessPenalty(smoothness_l=l_B)],[]]\n",
    "    l2_penalty = [0.001,0,0.001]\n",
    "elif model == 'dCMF_I':\n",
    "    regs = [[NonNegativity()],[my_factor_tools.myTemporallyPenalty(smoothness_l=l_B,H=np.eye(gnd_B[0].shape[0]),verify=False)],[]]\n",
    "    l2_penalty = [0.001,0,0.001]\n",
    "elif model == 'dCMF_H':\n",
    "    regs = [[NonNegativity()],[my_factor_tools.myTemporallyPenalty(smoothness_l=l_B,H=gnd_H,verify=False)],[]]\n",
    "    l2_penalty = [0.001,0,0.001]"
   ]
  },
  {
   "cell_type": "code",
   "execution_count": null,
   "metadata": {},
   "outputs": [],
   "source": [
    "# Fit 10 initializations of the model\n",
    "\n",
    "factors = []\n",
    "diagntostics = []\n",
    "\n",
    "for i in tqdm.tqdm(range(10)):\n",
    "    (weights,(D,B,A)),run_diagnostics = cmf_aoadmm(\n",
    "        matrices=noisy_tensor.T,\n",
    "        rank=3,\n",
    "        return_errors = True,\n",
    "        n_iter_max=6000,\n",
    "        l2_penalty=l2_penalty, # defined in the previous cell!\n",
    "        regs=regs, # defined in the previous cell!\n",
    "        # verbose=250,\n",
    "        tol=1e-4,\n",
    "        inner_n_iter_max=50,\n",
    "        absolute_tol=1e-4,\n",
    "        feasibility_tol=1e-5,\n",
    "        inner_tol=1e-5,\n",
    "    )\n",
    "\n",
    "    if my_factor_tools.check_degenerate((D,B,A)):\n",
    "        continue\n",
    "    else:\n",
    "        fms = my_factor_tools.get_fms((D,B,A), [gnd_C, gnd_B, gnd_A])\n",
    "        print(f\"FMS: {fms:.2f}\")\n",
    "        factors.append((A,B,D))\n",
    "        diagntostics.append(run_diagnostics)"
   ]
  },
  {
   "cell_type": "code",
   "execution_count": null,
   "metadata": {},
   "outputs": [],
   "source": [
    "# Choose the best run (according to total loss) and plot the computed factors\n",
    "\n",
    "best_run_index = np.argmin([d.regularized_loss[-1] for d in diagntostics])\n",
    "best_run_factors = factors[best_run_index]\n",
    "\n",
    "my_factor_tools.plot_factors(best_run_factors)"
   ]
  },
  {
   "cell_type": "code",
   "execution_count": null,
   "metadata": {},
   "outputs": [],
   "source": [
    "# Plot convergence diagnostics\n",
    "\n",
    "my_factor_tools.plot_convergence(diagntostics, regs,best_run_index)"
   ]
  },
  {
   "cell_type": "code",
   "execution_count": null,
   "metadata": {},
   "outputs": [],
   "source": [
    "# Also save them in a .mat file\n",
    "\n",
    "sio.savemat(f'exp{case}_{model}_seed{seed}_noise{str(noise_level)}.mat', {'A': best_run_factors[0], 'B': best_run_factors[1], 'D': best_run_factors[2]})"
   ]
  }
 ],
 "metadata": {
  "kernelspec": {
   "display_name": "myenv",
   "language": "python",
   "name": "python3"
  },
  "language_info": {
   "codemirror_mode": {
    "name": "ipython",
    "version": 3
   },
   "file_extension": ".py",
   "mimetype": "text/x-python",
   "name": "python",
   "nbconvert_exporter": "python",
   "pygments_lexer": "ipython3",
   "version": "3.10.16"
  }
 },
 "nbformat": 4,
 "nbformat_minor": 4
}
